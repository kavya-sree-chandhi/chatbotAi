{
 "cells": [
  {
   "cell_type": "code",
   "execution_count": 1,
   "id": "dc135cf2",
   "metadata": {},
   "outputs": [
    {
     "name": "stdout",
     "output_type": "stream",
     "text": [
      "Requirement already satisfied: langchain[groq] in c:\\users\\chand\\onedrive\\documents\\genai\\langchain-groq-chatbot\\chatbot_env\\lib\\site-packages (0.3.26)\n",
      "Requirement already satisfied: langchain-core<1.0.0,>=0.3.66 in c:\\users\\chand\\onedrive\\documents\\genai\\langchain-groq-chatbot\\chatbot_env\\lib\\site-packages (from langchain[groq]) (0.3.68)\n",
      "Requirement already satisfied: langchain-text-splitters<1.0.0,>=0.3.8 in c:\\users\\chand\\onedrive\\documents\\genai\\langchain-groq-chatbot\\chatbot_env\\lib\\site-packages (from langchain[groq]) (0.3.8)\n",
      "Requirement already satisfied: langsmith>=0.1.17 in c:\\users\\chand\\onedrive\\documents\\genai\\langchain-groq-chatbot\\chatbot_env\\lib\\site-packages (from langchain[groq]) (0.4.4)\n",
      "Requirement already satisfied: pydantic<3.0.0,>=2.7.4 in c:\\users\\chand\\onedrive\\documents\\genai\\langchain-groq-chatbot\\chatbot_env\\lib\\site-packages (from langchain[groq]) (2.11.7)\n",
      "Requirement already satisfied: SQLAlchemy<3,>=1.4 in c:\\users\\chand\\onedrive\\documents\\genai\\langchain-groq-chatbot\\chatbot_env\\lib\\site-packages (from langchain[groq]) (2.0.41)\n",
      "Requirement already satisfied: requests<3,>=2 in c:\\users\\chand\\onedrive\\documents\\genai\\langchain-groq-chatbot\\chatbot_env\\lib\\site-packages (from langchain[groq]) (2.32.4)\n",
      "Requirement already satisfied: PyYAML>=5.3 in c:\\users\\chand\\onedrive\\documents\\genai\\langchain-groq-chatbot\\chatbot_env\\lib\\site-packages (from langchain[groq]) (6.0.2)\n",
      "Requirement already satisfied: langchain-groq in c:\\users\\chand\\onedrive\\documents\\genai\\langchain-groq-chatbot\\chatbot_env\\lib\\site-packages (from langchain[groq]) (0.3.5)\n",
      "Requirement already satisfied: tenacity!=8.4.0,<10.0.0,>=8.1.0 in c:\\users\\chand\\onedrive\\documents\\genai\\langchain-groq-chatbot\\chatbot_env\\lib\\site-packages (from langchain-core<1.0.0,>=0.3.66->langchain[groq]) (9.1.2)\n",
      "Requirement already satisfied: jsonpatch<2.0,>=1.33 in c:\\users\\chand\\onedrive\\documents\\genai\\langchain-groq-chatbot\\chatbot_env\\lib\\site-packages (from langchain-core<1.0.0,>=0.3.66->langchain[groq]) (1.33)\n",
      "Requirement already satisfied: packaging<25,>=23.2 in c:\\users\\chand\\onedrive\\documents\\genai\\langchain-groq-chatbot\\chatbot_env\\lib\\site-packages (from langchain-core<1.0.0,>=0.3.66->langchain[groq]) (24.2)\n",
      "Requirement already satisfied: typing-extensions>=4.7 in c:\\users\\chand\\onedrive\\documents\\genai\\langchain-groq-chatbot\\chatbot_env\\lib\\site-packages (from langchain-core<1.0.0,>=0.3.66->langchain[groq]) (4.14.1)\n",
      "Requirement already satisfied: httpx<1,>=0.23.0 in c:\\users\\chand\\onedrive\\documents\\genai\\langchain-groq-chatbot\\chatbot_env\\lib\\site-packages (from langsmith>=0.1.17->langchain[groq]) (0.28.1)\n",
      "Requirement already satisfied: orjson<4.0.0,>=3.9.14 in c:\\users\\chand\\onedrive\\documents\\genai\\langchain-groq-chatbot\\chatbot_env\\lib\\site-packages (from langsmith>=0.1.17->langchain[groq]) (3.10.18)\n",
      "Requirement already satisfied: requests-toolbelt<2.0.0,>=1.0.0 in c:\\users\\chand\\onedrive\\documents\\genai\\langchain-groq-chatbot\\chatbot_env\\lib\\site-packages (from langsmith>=0.1.17->langchain[groq]) (1.0.0)\n",
      "Requirement already satisfied: zstandard<0.24.0,>=0.23.0 in c:\\users\\chand\\onedrive\\documents\\genai\\langchain-groq-chatbot\\chatbot_env\\lib\\site-packages (from langsmith>=0.1.17->langchain[groq]) (0.23.0)\n",
      "Requirement already satisfied: annotated-types>=0.6.0 in c:\\users\\chand\\onedrive\\documents\\genai\\langchain-groq-chatbot\\chatbot_env\\lib\\site-packages (from pydantic<3.0.0,>=2.7.4->langchain[groq]) (0.7.0)\n",
      "Requirement already satisfied: pydantic-core==2.33.2 in c:\\users\\chand\\onedrive\\documents\\genai\\langchain-groq-chatbot\\chatbot_env\\lib\\site-packages (from pydantic<3.0.0,>=2.7.4->langchain[groq]) (2.33.2)\n",
      "Requirement already satisfied: typing-inspection>=0.4.0 in c:\\users\\chand\\onedrive\\documents\\genai\\langchain-groq-chatbot\\chatbot_env\\lib\\site-packages (from pydantic<3.0.0,>=2.7.4->langchain[groq]) (0.4.1)\n",
      "Requirement already satisfied: charset_normalizer<4,>=2 in c:\\users\\chand\\onedrive\\documents\\genai\\langchain-groq-chatbot\\chatbot_env\\lib\\site-packages (from requests<3,>=2->langchain[groq]) (3.4.2)\n",
      "Requirement already satisfied: idna<4,>=2.5 in c:\\users\\chand\\onedrive\\documents\\genai\\langchain-groq-chatbot\\chatbot_env\\lib\\site-packages (from requests<3,>=2->langchain[groq]) (3.10)\n",
      "Requirement already satisfied: urllib3<3,>=1.21.1 in c:\\users\\chand\\onedrive\\documents\\genai\\langchain-groq-chatbot\\chatbot_env\\lib\\site-packages (from requests<3,>=2->langchain[groq]) (2.5.0)\n",
      "Requirement already satisfied: certifi>=2017.4.17 in c:\\users\\chand\\onedrive\\documents\\genai\\langchain-groq-chatbot\\chatbot_env\\lib\\site-packages (from requests<3,>=2->langchain[groq]) (2025.7.9)\n",
      "Requirement already satisfied: greenlet>=1 in c:\\users\\chand\\onedrive\\documents\\genai\\langchain-groq-chatbot\\chatbot_env\\lib\\site-packages (from SQLAlchemy<3,>=1.4->langchain[groq]) (3.2.3)\n",
      "Requirement already satisfied: groq<1,>=0.29.0 in c:\\users\\chand\\onedrive\\documents\\genai\\langchain-groq-chatbot\\chatbot_env\\lib\\site-packages (from langchain-groq->langchain[groq]) (0.29.0)\n",
      "Requirement already satisfied: anyio<5,>=3.5.0 in c:\\users\\chand\\onedrive\\documents\\genai\\langchain-groq-chatbot\\chatbot_env\\lib\\site-packages (from groq<1,>=0.29.0->langchain-groq->langchain[groq]) (4.9.0)\n",
      "Requirement already satisfied: distro<2,>=1.7.0 in c:\\users\\chand\\onedrive\\documents\\genai\\langchain-groq-chatbot\\chatbot_env\\lib\\site-packages (from groq<1,>=0.29.0->langchain-groq->langchain[groq]) (1.9.0)\n",
      "Requirement already satisfied: sniffio in c:\\users\\chand\\onedrive\\documents\\genai\\langchain-groq-chatbot\\chatbot_env\\lib\\site-packages (from groq<1,>=0.29.0->langchain-groq->langchain[groq]) (1.3.1)\n",
      "Requirement already satisfied: httpcore==1.* in c:\\users\\chand\\onedrive\\documents\\genai\\langchain-groq-chatbot\\chatbot_env\\lib\\site-packages (from httpx<1,>=0.23.0->langsmith>=0.1.17->langchain[groq]) (1.0.9)\n",
      "Requirement already satisfied: h11>=0.16 in c:\\users\\chand\\onedrive\\documents\\genai\\langchain-groq-chatbot\\chatbot_env\\lib\\site-packages (from httpcore==1.*->httpx<1,>=0.23.0->langsmith>=0.1.17->langchain[groq]) (0.16.0)\n",
      "Requirement already satisfied: jsonpointer>=1.9 in c:\\users\\chand\\onedrive\\documents\\genai\\langchain-groq-chatbot\\chatbot_env\\lib\\site-packages (from jsonpatch<2.0,>=1.33->langchain-core<1.0.0,>=0.3.66->langchain[groq]) (3.0.0)\n"
     ]
    },
    {
     "name": "stderr",
     "output_type": "stream",
     "text": [
      "\n",
      "[notice] A new release of pip is available: 23.2.1 -> 25.1.1\n",
      "[notice] To update, run: python.exe -m pip install --upgrade pip\n"
     ]
    }
   ],
   "source": [
    "!pip install -U \"langchain[groq]\""
   ]
  },
  {
   "cell_type": "code",
   "execution_count": 2,
   "id": "5cf35fd5",
   "metadata": {},
   "outputs": [],
   "source": [
    "# pip install -qU \"langchain[anthropic]\" to call the model\n",
    "\n",
    "from langgraph.prebuilt import create_react_agent\n",
    "from dotenv import load_dotenv\n",
    "load_dotenv()\n",
    "\n",
    "def assist_with_dog_care(suggest: str) -> str:\n",
    "    \"\"\"Guide the user with Dog care\n",
    "    Args:\n",
    "        suggest(str): the topic of guidance, it can be any of\n",
    "                                                * Dog adoption suggestion\n",
    "                                                * Dog care\n",
    "                                                * Dog maintenance\n",
    "                                                * Dog grooming\n",
    "                                                * Dog health\n",
    "                                                * Dog anxiety\n",
    "    \"\"\"\n",
    "    \n",
    "    if suggest==\"Dog anxiety\":\n",
    "        return f\"Don't worry! Your Dog will be fine\"\n",
    "    return f\"I am glad to help you with {suggest}\"\n",
    "        \n",
    "\n",
    "    \n",
    "\n",
    "persona = f\"\"\"\n",
    "You are an Dog care Guide, capable of assisting in the following domains:\n",
    "* Dog adoption suggestion\n",
    "* Dog care\n",
    "* Dog maintenance\n",
    "* Dog grooming\n",
    "* Dog health\n",
    "* Dog anxiety\n",
    "\n",
    "\"\"\"\n",
    "\n",
    "\n",
    "agent = create_react_agent(\n",
    "    model=\"groq:llama-3.1-8b-instant\",\n",
    "    tools=[assist_with_dog_care],\n",
    "    prompt=\"You are a helpful assistant\"\n",
    ")\n",
    "\n",
    "from IPython.display import display_markdown\n",
    "def my_petcare(message):\n",
    "    \n",
    "    out = agent.invoke(\n",
    "    {\"messages\": [{\"role\": \"user\", \"content\": message}]}\n",
    "    )\n",
    "    display_markdown(out['messages'][-1].content, raw= True)"
   ]
  },
  {
   "cell_type": "code",
   "execution_count": 3,
   "id": "dfab5ee1",
   "metadata": {},
   "outputs": [
    {
     "data": {
      "text/markdown": [
       "<function=assist_with_dog_care>{\"suggest\": \"Dog grooming\"}"
      ]
     },
     "metadata": {},
     "output_type": "display_data"
    }
   ],
   "source": [
    "my_petcare(\"My dog's hair grew long\")"
   ]
  },
  {
   "cell_type": "code",
   "execution_count": 4,
   "id": "3bd3b7c9",
   "metadata": {},
   "outputs": [],
   "source": [
    "from typing import Annotated\n",
    "\n",
    "from typing_extensions import TypedDict\n",
    "\n",
    "from langgraph.graph import StateGraph, START, END\n",
    "from langgraph.graph.message import add_messages\n",
    "\n",
    "\n",
    "class State(TypedDict):\n",
    "    # Messages have the type \"list\". The `add_messages` function\n",
    "    # in the annotation defines how this state key should be updated\n",
    "    # (in this case, it appends messages to the list, rather than overwriting them)\n",
    "    messages: Annotated[list, add_messages]\n",
    "\n",
    "\n",
    "graph_builder = StateGraph(State)"
   ]
  },
  {
   "cell_type": "code",
   "execution_count": 5,
   "id": "9ca6890b",
   "metadata": {},
   "outputs": [],
   "source": [
    "import os\n",
    "from dotenv import load_dotenv\n",
    "from langchain.chat_models import init_chat_model\n",
    "load_dotenv()\n",
    "llm = init_chat_model(\"groq:llama-3.1-8b-instant\")"
   ]
  },
  {
   "cell_type": "code",
   "execution_count": 6,
   "id": "8431f079",
   "metadata": {},
   "outputs": [
    {
     "data": {
      "text/plain": [
       "<langgraph.graph.state.StateGraph at 0x220f4101150>"
      ]
     },
     "execution_count": 6,
     "metadata": {},
     "output_type": "execute_result"
    }
   ],
   "source": [
    "def chatbot(state: State):\n",
    "    return {\"messages\": [llm.invoke(state[\"messages\"])]}\n",
    "\n",
    "\n",
    "# The first argument is the unique node name\n",
    "# The second argument is the function or object that will be called whenever\n",
    "# the node is used.\n",
    "graph_builder.add_node(\"chatbot\", chatbot)"
   ]
  },
  {
   "cell_type": "code",
   "execution_count": 7,
   "id": "f7e02daa",
   "metadata": {},
   "outputs": [
    {
     "data": {
      "text/plain": [
       "<langgraph.graph.state.StateGraph at 0x220f4101150>"
      ]
     },
     "execution_count": 7,
     "metadata": {},
     "output_type": "execute_result"
    }
   ],
   "source": [
    "graph_builder.add_edge(START, \"chatbot\")"
   ]
  },
  {
   "cell_type": "code",
   "execution_count": 8,
   "id": "cda382c8",
   "metadata": {},
   "outputs": [
    {
     "data": {
      "text/plain": [
       "<langgraph.graph.state.StateGraph at 0x220f4101150>"
      ]
     },
     "execution_count": 8,
     "metadata": {},
     "output_type": "execute_result"
    }
   ],
   "source": [
    "graph_builder.add_edge(\"chatbot\", END)"
   ]
  },
  {
   "cell_type": "code",
   "execution_count": 9,
   "id": "6ad0e111",
   "metadata": {},
   "outputs": [],
   "source": [
    "graph = graph_builder.compile()"
   ]
  },
  {
   "cell_type": "code",
   "execution_count": 10,
   "id": "911a83ec",
   "metadata": {},
   "outputs": [
    {
     "data": {
      "image/png": "[encoded data removed]",
      "text/plain": [
       "<IPython.core.display.Image object>"
      ]
     },
     "metadata": {},
     "output_type": "display_data"
    }
   ],
   "source": [
    "from IPython.display import Image, display\n",
    "\n",
    "try:\n",
    "    display(Image(graph.get_graph().draw_mermaid_png()))\n",
    "except Exception:\n",
    "    # This requires some extra dependencies and is optional\n",
    "    pass"
   ]
  },
  {
   "cell_type": "code",
   "execution_count": 11,
   "id": "0a7e357a",
   "metadata": {},
   "outputs": [
    {
     "name": "stdout",
     "output_type": "stream",
     "text": [
      "Assistant: How can I assist you today?\n",
      "Goodbye!\n"
     ]
    }
   ],
   "source": [
    "def stream_graph_updates(user_input: str):\n",
    "    for event in graph.stream({\"messages\": [{\"role\": \"user\", \"content\": user_input}]}):\n",
    "        for value in event.values():\n",
    "            print(\"Assistant:\", value[\"messages\"][-1].content)\n",
    "\n",
    "\n",
    "while True:\n",
    "    try:\n",
    "        user_input = input(\"User: \")\n",
    "        if user_input.lower() in [\"quit\", \"exit\", \"q\"]:\n",
    "            print(\"Goodbye!\")\n",
    "            break\n",
    "        stream_graph_updates(user_input)\n",
    "    except:\n",
    "        # fallback if input() is not available\n",
    "        user_input = \"What do you know about LangGraph?\"\n",
    "        print(\"User: \" + user_input)\n",
    "        stream_graph_updates(user_input)\n",
    "        break"
   ]
  },
  {
   "cell_type": "code",
   "execution_count": 12,
   "id": "d8c05880",
   "metadata": {},
   "outputs": [
    {
     "name": "stdout",
     "output_type": "stream",
     "text": [
      "Requirement already satisfied: langchain-tavily in c:\\users\\chand\\onedrive\\documents\\genai\\langchain-groq-chatbot\\chatbot_env\\lib\\site-packages (0.2.7)\n",
      "Requirement already satisfied: aiohttp<4.0.0,>=3.11.14 in c:\\users\\chand\\onedrive\\documents\\genai\\langchain-groq-chatbot\\chatbot_env\\lib\\site-packages (from langchain-tavily) (3.12.13)\n",
      "Requirement already satisfied: langchain<0.4.0,>=0.3.20 in c:\\users\\chand\\onedrive\\documents\\genai\\langchain-groq-chatbot\\chatbot_env\\lib\\site-packages (from langchain-tavily) (0.3.26)\n",
      "Requirement already satisfied: langchain-core<0.4.0,>=0.3.15 in c:\\users\\chand\\onedrive\\documents\\genai\\langchain-groq-chatbot\\chatbot_env\\lib\\site-packages (from langchain-tavily) (0.3.68)\n",
      "Requirement already satisfied: requests<3.0.0,>=2.32.3 in c:\\users\\chand\\onedrive\\documents\\genai\\langchain-groq-chatbot\\chatbot_env\\lib\\site-packages (from langchain-tavily) (2.32.4)\n",
      "Requirement already satisfied: aiohappyeyeballs>=2.5.0 in c:\\users\\chand\\onedrive\\documents\\genai\\langchain-groq-chatbot\\chatbot_env\\lib\\site-packages (from aiohttp<4.0.0,>=3.11.14->langchain-tavily) (2.6.1)\n",
      "Requirement already satisfied: aiosignal>=1.1.2 in c:\\users\\chand\\onedrive\\documents\\genai\\langchain-groq-chatbot\\chatbot_env\\lib\\site-packages (from aiohttp<4.0.0,>=3.11.14->langchain-tavily) (1.4.0)\n",
      "Requirement already satisfied: attrs>=17.3.0 in c:\\users\\chand\\onedrive\\documents\\genai\\langchain-groq-chatbot\\chatbot_env\\lib\\site-packages (from aiohttp<4.0.0,>=3.11.14->langchain-tavily) (25.3.0)\n",
      "Requirement already satisfied: frozenlist>=1.1.1 in c:\\users\\chand\\onedrive\\documents\\genai\\langchain-groq-chatbot\\chatbot_env\\lib\\site-packages (from aiohttp<4.0.0,>=3.11.14->langchain-tavily) (1.7.0)\n",
      "Requirement already satisfied: multidict<7.0,>=4.5 in c:\\users\\chand\\onedrive\\documents\\genai\\langchain-groq-chatbot\\chatbot_env\\lib\\site-packages (from aiohttp<4.0.0,>=3.11.14->langchain-tavily) (6.6.3)\n",
      "Requirement already satisfied: propcache>=0.2.0 in c:\\users\\chand\\onedrive\\documents\\genai\\langchain-groq-chatbot\\chatbot_env\\lib\\site-packages (from aiohttp<4.0.0,>=3.11.14->langchain-tavily) (0.3.2)\n",
      "Requirement already satisfied: yarl<2.0,>=1.17.0 in c:\\users\\chand\\onedrive\\documents\\genai\\langchain-groq-chatbot\\chatbot_env\\lib\\site-packages (from aiohttp<4.0.0,>=3.11.14->langchain-tavily) (1.20.1)\n",
      "Requirement already satisfied: langchain-text-splitters<1.0.0,>=0.3.8 in c:\\users\\chand\\onedrive\\documents\\genai\\langchain-groq-chatbot\\chatbot_env\\lib\\site-packages (from langchain<0.4.0,>=0.3.20->langchain-tavily) (0.3.8)\n",
      "Requirement already satisfied: langsmith>=0.1.17 in c:\\users\\chand\\onedrive\\documents\\genai\\langchain-groq-chatbot\\chatbot_env\\lib\\site-packages (from langchain<0.4.0,>=0.3.20->langchain-tavily) (0.4.4)\n",
      "Requirement already satisfied: pydantic<3.0.0,>=2.7.4 in c:\\users\\chand\\onedrive\\documents\\genai\\langchain-groq-chatbot\\chatbot_env\\lib\\site-packages (from langchain<0.4.0,>=0.3.20->langchain-tavily) (2.11.7)\n",
      "Requirement already satisfied: SQLAlchemy<3,>=1.4 in c:\\users\\chand\\onedrive\\documents\\genai\\langchain-groq-chatbot\\chatbot_env\\lib\\site-packages (from langchain<0.4.0,>=0.3.20->langchain-tavily) (2.0.41)\n",
      "Requirement already satisfied: PyYAML>=5.3 in c:\\users\\chand\\onedrive\\documents\\genai\\langchain-groq-chatbot\\chatbot_env\\lib\\site-packages (from langchain<0.4.0,>=0.3.20->langchain-tavily) (6.0.2)\n",
      "Requirement already satisfied: tenacity!=8.4.0,<10.0.0,>=8.1.0 in c:\\users\\chand\\onedrive\\documents\\genai\\langchain-groq-chatbot\\chatbot_env\\lib\\site-packages (from langchain-core<0.4.0,>=0.3.15->langchain-tavily) (9.1.2)\n",
      "Requirement already satisfied: jsonpatch<2.0,>=1.33 in c:\\users\\chand\\onedrive\\documents\\genai\\langchain-groq-chatbot\\chatbot_env\\lib\\site-packages (from langchain-core<0.4.0,>=0.3.15->langchain-tavily) (1.33)\n",
      "Requirement already satisfied: packaging<25,>=23.2 in c:\\users\\chand\\onedrive\\documents\\genai\\langchain-groq-chatbot\\chatbot_env\\lib\\site-packages (from langchain-core<0.4.0,>=0.3.15->langchain-tavily) (24.2)\n",
      "Requirement already satisfied: typing-extensions>=4.7 in c:\\users\\chand\\onedrive\\documents\\genai\\langchain-groq-chatbot\\chatbot_env\\lib\\site-packages (from langchain-core<0.4.0,>=0.3.15->langchain-tavily) (4.14.1)\n",
      "Requirement already satisfied: charset_normalizer<4,>=2 in c:\\users\\chand\\onedrive\\documents\\genai\\langchain-groq-chatbot\\chatbot_env\\lib\\site-packages (from requests<3.0.0,>=2.32.3->langchain-tavily) (3.4.2)\n",
      "Requirement already satisfied: idna<4,>=2.5 in c:\\users\\chand\\onedrive\\documents\\genai\\langchain-groq-chatbot\\chatbot_env\\lib\\site-packages (from requests<3.0.0,>=2.32.3->langchain-tavily) (3.10)\n",
      "Requirement already satisfied: urllib3<3,>=1.21.1 in c:\\users\\chand\\onedrive\\documents\\genai\\langchain-groq-chatbot\\chatbot_env\\lib\\site-packages (from requests<3.0.0,>=2.32.3->langchain-tavily) (2.5.0)\n",
      "Requirement already satisfied: certifi>=2017.4.17 in c:\\users\\chand\\onedrive\\documents\\genai\\langchain-groq-chatbot\\chatbot_env\\lib\\site-packages (from requests<3.0.0,>=2.32.3->langchain-tavily) (2025.7.9)\n",
      "Requirement already satisfied: jsonpointer>=1.9 in c:\\users\\chand\\onedrive\\documents\\genai\\langchain-groq-chatbot\\chatbot_env\\lib\\site-packages (from jsonpatch<2.0,>=1.33->langchain-core<0.4.0,>=0.3.15->langchain-tavily) (3.0.0)\n",
      "Requirement already satisfied: httpx<1,>=0.23.0 in c:\\users\\chand\\onedrive\\documents\\genai\\langchain-groq-chatbot\\chatbot_env\\lib\\site-packages (from langsmith>=0.1.17->langchain<0.4.0,>=0.3.20->langchain-tavily) (0.28.1)\n",
      "Requirement already satisfied: orjson<4.0.0,>=3.9.14 in c:\\users\\chand\\onedrive\\documents\\genai\\langchain-groq-chatbot\\chatbot_env\\lib\\site-packages (from langsmith>=0.1.17->langchain<0.4.0,>=0.3.20->langchain-tavily) (3.10.18)\n",
      "Requirement already satisfied: requests-toolbelt<2.0.0,>=1.0.0 in c:\\users\\chand\\onedrive\\documents\\genai\\langchain-groq-chatbot\\chatbot_env\\lib\\site-packages (from langsmith>=0.1.17->langchain<0.4.0,>=0.3.20->langchain-tavily) (1.0.0)\n",
      "Requirement already satisfied: zstandard<0.24.0,>=0.23.0 in c:\\users\\chand\\onedrive\\documents\\genai\\langchain-groq-chatbot\\chatbot_env\\lib\\site-packages (from langsmith>=0.1.17->langchain<0.4.0,>=0.3.20->langchain-tavily) (0.23.0)\n",
      "Requirement already satisfied: annotated-types>=0.6.0 in c:\\users\\chand\\onedrive\\documents\\genai\\langchain-groq-chatbot\\chatbot_env\\lib\\site-packages (from pydantic<3.0.0,>=2.7.4->langchain<0.4.0,>=0.3.20->langchain-tavily) (0.7.0)\n",
      "Requirement already satisfied: pydantic-core==2.33.2 in c:\\users\\chand\\onedrive\\documents\\genai\\langchain-groq-chatbot\\chatbot_env\\lib\\site-packages (from pydantic<3.0.0,>=2.7.4->langchain<0.4.0,>=0.3.20->langchain-tavily) (2.33.2)\n",
      "Requirement already satisfied: typing-inspection>=0.4.0 in c:\\users\\chand\\onedrive\\documents\\genai\\langchain-groq-chatbot\\chatbot_env\\lib\\site-packages (from pydantic<3.0.0,>=2.7.4->langchain<0.4.0,>=0.3.20->langchain-tavily) (0.4.1)\n",
      "Requirement already satisfied: greenlet>=1 in c:\\users\\chand\\onedrive\\documents\\genai\\langchain-groq-chatbot\\chatbot_env\\lib\\site-packages (from SQLAlchemy<3,>=1.4->langchain<0.4.0,>=0.3.20->langchain-tavily) (3.2.3)\n",
      "Requirement already satisfied: anyio in c:\\users\\chand\\onedrive\\documents\\genai\\langchain-groq-chatbot\\chatbot_env\\lib\\site-packages (from httpx<1,>=0.23.0->langsmith>=0.1.17->langchain<0.4.0,>=0.3.20->langchain-tavily) (4.9.0)\n",
      "Requirement already satisfied: httpcore==1.* in c:\\users\\chand\\onedrive\\documents\\genai\\langchain-groq-chatbot\\chatbot_env\\lib\\site-packages (from httpx<1,>=0.23.0->langsmith>=0.1.17->langchain<0.4.0,>=0.3.20->langchain-tavily) (1.0.9)\n",
      "Requirement already satisfied: h11>=0.16 in c:\\users\\chand\\onedrive\\documents\\genai\\langchain-groq-chatbot\\chatbot_env\\lib\\site-packages (from httpcore==1.*->httpx<1,>=0.23.0->langsmith>=0.1.17->langchain<0.4.0,>=0.3.20->langchain-tavily) (0.16.0)\n",
      "Requirement already satisfied: sniffio>=1.1 in c:\\users\\chand\\onedrive\\documents\\genai\\langchain-groq-chatbot\\chatbot_env\\lib\\site-packages (from anyio->httpx<1,>=0.23.0->langsmith>=0.1.17->langchain<0.4.0,>=0.3.20->langchain-tavily) (1.3.1)\n",
      "Note: you may need to restart the kernel to use updated packages.\n"
     ]
    },
    {
     "name": "stderr",
     "output_type": "stream",
     "text": [
      "\n",
      "[notice] A new release of pip is available: 23.2.1 -> 25.1.1\n",
      "[notice] To update, run: python.exe -m pip install --upgrade pip\n"
     ]
    }
   ],
   "source": [
    "pip install -U langchain-tavily"
   ]
  },
  {
   "cell_type": "code",
   "execution_count": 13,
   "id": "40cbcb90",
   "metadata": {},
   "outputs": [],
   "source": [
    "import os"
   ]
  },
  {
   "cell_type": "code",
   "execution_count": 14,
   "id": "69f87bb7",
   "metadata": {},
   "outputs": [],
   "source": [
    "from dotenv import load_dotenv"
   ]
  },
  {
   "cell_type": "code",
   "execution_count": 15,
   "id": "fa211e28",
   "metadata": {},
   "outputs": [
    {
     "data": {
      "text/plain": [
       "True"
      ]
     },
     "execution_count": 15,
     "metadata": {},
     "output_type": "execute_result"
    }
   ],
   "source": [
    "load_dotenv()"
   ]
  },
  {
   "cell_type": "code",
   "execution_count": 16,
   "id": "18a11900",
   "metadata": {},
   "outputs": [
    {
     "data": {
      "text/plain": [
       "{'query': \"What's a 'node' in LangGraph?\",\n",
       " 'follow_up_questions': None,\n",
       " 'answer': None,\n",
       " 'images': [],\n",
       " 'results': [{'url': 'https://medium.com/@cplog/introduction-to-langgraph-a-beginners-guide-14f9be027141',\n",
       "   'title': \"Introduction to LangGraph: A Beginner's Guide - Medium\",\n",
       "   'content': '*   **Stateful Graph:** LangGraph revolves around the concept of a stateful graph, where each node in the graph represents a step in your computation, and the graph maintains a state that is passed around and updated as the computation progresses. LangGraph supports conditional edges, allowing you to dynamically determine the next node to execute based on the current state of the graph. Image 10: Introduction to AI Agent with LangChain and LangGraph: A Beginner’s Guide Image 18: How to build LLM Agent with LangGraph\\u200a—\\u200aStateGraph and Reducer Image 20: Simplest Graphs using LangGraph Framework Image 24: Building a ReAct Agent with Langgraph: A Step-by-Step Guide Image 28: Building an Agentic RAG with LangGraph: A Step-by-Step Guide',\n",
       "   'score': 0.65252984,\n",
       "   'raw_content': None},\n",
       "  {'url': 'https://medium.com/@vivekvjnk/langgraph-basics-understanding-state-schema-nodes-and-edges-77f2fd17cae5',\n",
       "   'title': 'LangGraph Basics: Understanding State, Schema, Nodes, and Edges',\n",
       "   'content': 'LangGraph Basics: Understanding State, Schema, Nodes, and Edges | by Story_Teller | Medium LangGraph Basics: Understanding State, Schema, Nodes, and Edges LangGraph Basics: Understanding State, Schema, Nodes, and Edges These predefined structures in the messaging app are synonymous with the schema of the state in LangGraph. Just as a messaging app ensures all interactions (messages) follow a consistent format, the schema in LangGraph ensures the state passed along edges is structured and interpretable. This static schema allows nodes to rely on a consistent state format, ensuring seamless communication along edges throughout the graph. In this article, we explored the foundational concepts of graph-based systems, drawing parallels to familiar messaging applications to illustrate how edges, nodes, and state transitions function seamlessly in dynamic workflows.',\n",
       "   'score': 0.6501347,\n",
       "   'raw_content': None}],\n",
       " 'response_time': 1.28}"
      ]
     },
     "execution_count": 16,
     "metadata": {},
     "output_type": "execute_result"
    }
   ],
   "source": [
    "from langchain_tavily import TavilySearch\n",
    "\n",
    "tool = TavilySearch(max_results=2)\n",
    "tools = [tool]\n",
    "tool.invoke(\"What's a 'node' in LangGraph?\")"
   ]
  },
  {
   "cell_type": "code",
   "execution_count": 17,
   "id": "c9d5811d",
   "metadata": {},
   "outputs": [],
   "source": [
    "from IPython.display import display_markdown\n",
    "def get_search_result(query):\n",
    "    raw_response = tool.invoke(query)\n",
    "    for i in raw_response[\"results\"]:\n",
    "        display_markdown(i[\"content\"], raw= True)\n",
    "    #print(raw_response)\n",
    "    "
   ]
  },
  {
   "cell_type": "code",
   "execution_count": 18,
   "id": "377ff9f2",
   "metadata": {},
   "outputs": [
    {
     "data": {
      "text/markdown": [
       "An armed conflict between Iran and Israel began when Israel launched surprise attacks on key military and nuclear facilities in Iran on 13 June 2025, in the"
      ]
     },
     "metadata": {},
     "output_type": "display_data"
    },
    {
     "data": {
      "text/markdown": [
       "The recent war between Israel and Iran, followed by direct U.S. involvement, marked a major escalation in the region and derailed high-level"
      ]
     },
     "metadata": {},
     "output_type": "display_data"
    }
   ],
   "source": [
    "\n",
    "res = get_search_result(\"iran War\")"
   ]
  },
  {
   "cell_type": "code",
   "execution_count": 19,
   "id": "4c0cb8dd",
   "metadata": {},
   "outputs": [],
   "source": [
    "import os\n",
    "from langchain.chat_models import init_chat_model\n",
    "\n",
    "os.environ[\"GROQ_API_KEY\"] = \"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\"\n",
    "\n",
    "llm = init_chat_model(\"groq:llama-3.1-8b-instant\")"
   ]
  },
  {
   "cell_type": "code",
   "execution_count": 20,
   "id": "200c0609",
   "metadata": {},
   "outputs": [
    {
     "data": {
      "text/plain": [
       "<langgraph.graph.state.StateGraph at 0x220f6954550>"
      ]
     },
     "execution_count": 20,
     "metadata": {},
     "output_type": "execute_result"
    }
   ],
   "source": [
    "from typing import Annotated\n",
    "\n",
    "from langchain_tavily import TavilySearch\n",
    "from langchain_core.tools import tool\n",
    "from typing_extensions import TypedDict\n",
    "\n",
    "from langgraph.checkpoint.memory import MemorySaver\n",
    "from langgraph.graph import StateGraph, START, END\n",
    "from langgraph.graph.message import add_messages\n",
    "from langgraph.prebuilt import ToolNode, tools_condition\n",
    "\n",
    "from langgraph.types import Command, interrupt\n",
    "\n",
    "class State(TypedDict):\n",
    "    messages: Annotated[list, add_messages]\n",
    "\n",
    "graph_builder = StateGraph(State)\n",
    "\n",
    "@tool\n",
    "def human_assistance(query: str) -> str:\n",
    "    \"\"\"Request assistance from a human.\"\"\"\n",
    "    human_response = interrupt({\"query\": query})\n",
    "    return human_response[\"data\"]\n",
    "\n",
    "tool = TavilySearch(max_results=2)\n",
    "tools = [tool, human_assistance]\n",
    "llm_with_tools = llm.bind_tools(tools)\n",
    "\n",
    "def chatbot(state: State):\n",
    "    message = llm_with_tools.invoke(state[\"messages\"])\n",
    "    # Because we will be interrupting during tool execution,\n",
    "    # we disable parallel tool calling to avoid repeating any\n",
    "    # tool invocations when we resume.\n",
    "    assert len(message.tool_calls) <= 1\n",
    "    return {\"messages\": [message]}\n",
    "\n",
    "graph_builder.add_node(\"chatbot\", chatbot)\n",
    "\n",
    "tool_node = ToolNode(tools=tools)\n",
    "graph_builder.add_node(\"tools\", tool_node)\n",
    "\n",
    "graph_builder.add_conditional_edges(\n",
    "    \"chatbot\",\n",
    "    tools_condition,\n",
    ")\n",
    "graph_builder.add_edge(\"tools\", \"chatbot\")\n",
    "graph_builder.add_edge(START, \"chatbot\")"
   ]
  },
  {
   "cell_type": "code",
   "execution_count": 22,
   "id": "5ce0ea0d",
   "metadata": {},
   "outputs": [
    {
     "ename": "ValueError",
     "evalue": "Node `tools` already present.",
     "output_type": "error",
     "traceback": [
      "\u001b[31m---------------------------------------------------------------------------\u001b[39m",
      "\u001b[31mValueError\u001b[39m                                Traceback (most recent call last)",
      "\u001b[36mCell\u001b[39m\u001b[36m \u001b[39m\u001b[32mIn[22]\u001b[39m\u001b[32m, line 33\u001b[39m\n\u001b[32m     29\u001b[39m         \u001b[38;5;28;01mreturn\u001b[39;00m {\u001b[33m\"\u001b[39m\u001b[33mmessages\u001b[39m\u001b[33m\"\u001b[39m: outputs}\n\u001b[32m     32\u001b[39m tool_node = BasicToolNode(tools=[tool])\n\u001b[32m---> \u001b[39m\u001b[32m33\u001b[39m \u001b[43mgraph_builder\u001b[49m\u001b[43m.\u001b[49m\u001b[43madd_node\u001b[49m\u001b[43m(\u001b[49m\u001b[33;43m\"\u001b[39;49m\u001b[33;43mtools\u001b[39;49m\u001b[33;43m\"\u001b[39;49m\u001b[43m,\u001b[49m\u001b[43m \u001b[49m\u001b[43mtool_node\u001b[49m\u001b[43m)\u001b[49m\n",
      "\u001b[36mFile \u001b[39m\u001b[32mc:\\Users\\chand\\OneDrive\\Documents\\GenAi\\langchain-groq-chatbot\\chatbot_env\\Lib\\site-packages\\langgraph\\graph\\state.py:478\u001b[39m, in \u001b[36mStateGraph.add_node\u001b[39m\u001b[34m(self, node, action, defer, metadata, input_schema, retry_policy, cache_policy, destinations, **kwargs)\u001b[39m\n\u001b[32m    476\u001b[39m     \u001b[38;5;28;01mraise\u001b[39;00m \u001b[38;5;167;01mRuntimeError\u001b[39;00m\n\u001b[32m    477\u001b[39m \u001b[38;5;28;01mif\u001b[39;00m node \u001b[38;5;129;01min\u001b[39;00m \u001b[38;5;28mself\u001b[39m.nodes:\n\u001b[32m--> \u001b[39m\u001b[32m478\u001b[39m     \u001b[38;5;28;01mraise\u001b[39;00m \u001b[38;5;167;01mValueError\u001b[39;00m(\u001b[33mf\u001b[39m\u001b[33m\"\u001b[39m\u001b[33mNode `\u001b[39m\u001b[38;5;132;01m{\u001b[39;00mnode\u001b[38;5;132;01m}\u001b[39;00m\u001b[33m` already present.\u001b[39m\u001b[33m\"\u001b[39m)\n\u001b[32m    479\u001b[39m \u001b[38;5;28;01mif\u001b[39;00m node == END \u001b[38;5;129;01mor\u001b[39;00m node == START:\n\u001b[32m    480\u001b[39m     \u001b[38;5;28;01mraise\u001b[39;00m \u001b[38;5;167;01mValueError\u001b[39;00m(\u001b[33mf\u001b[39m\u001b[33m\"\u001b[39m\u001b[33mNode `\u001b[39m\u001b[38;5;132;01m{\u001b[39;00mnode\u001b[38;5;132;01m}\u001b[39;00m\u001b[33m` is reserved.\u001b[39m\u001b[33m\"\u001b[39m)\n",
      "\u001b[31mValueError\u001b[39m: Node `tools` already present."
     ]
    }
   ],
   "source": [
    "import json\n",
    "\n",
    "from langchain_core.messages import ToolMessage\n",
    "\n",
    "\n",
    "class BasicToolNode:\n",
    "    \"\"\"A node that runs the tools requested in the last AIMessage.\"\"\"\n",
    "\n",
    "    def __init__(self, tools: list) -> None:\n",
    "        self.tools_by_name = {tool.name: tool for tool in tools}\n",
    "\n",
    "    def __call__(self, inputs: dict):\n",
    "        if messages := inputs.get(\"messages\", []):\n",
    "            message = messages[-1]\n",
    "        else:\n",
    "            raise ValueError(\"No message found in input\")\n",
    "        outputs = []\n",
    "        for tool_call in message.tool_calls:\n",
    "            tool_result = self.tools_by_name[tool_call[\"name\"]].invoke(\n",
    "                tool_call[\"args\"]\n",
    "            )\n",
    "            outputs.append(\n",
    "                ToolMessage(\n",
    "                    content=json.dumps(tool_result),\n",
    "                    name=tool_call[\"name\"],\n",
    "                    tool_call_id=tool_call[\"id\"],\n",
    "                )\n",
    "            )\n",
    "        return {\"messages\": outputs}\n",
    "\n",
    "\n",
    "tool_node = BasicToolNode(tools=[tool])\n",
    "graph_builder.add_node(\"tools\", tool_node)"
   ]
  },
  {
   "cell_type": "code",
   "execution_count": 23,
   "id": "208ff704",
   "metadata": {},
   "outputs": [],
   "source": [
    "def route_tools(\n",
    "    state: State,\n",
    "):\n",
    "    \"\"\"\n",
    "    Use in the conditional_edge to route to the ToolNode if the last message\n",
    "    has tool calls. Otherwise, route to the end.\n",
    "    \"\"\"\n",
    "    if isinstance(state, list):\n",
    "        ai_message = state[-1]\n",
    "    elif messages := state.get(\"messages\", []):\n",
    "        ai_message = messages[-1]\n",
    "    else:\n",
    "        raise ValueError(f\"No messages found in input state to tool_edge: {state}\")\n",
    "    if hasattr(ai_message, \"tool_calls\") and len(ai_message.tool_calls) > 0:\n",
    "        return \"tools\"\n",
    "    return END\n",
    "\n",
    "\n",
    "# The `tools_condition` function returns \"tools\" if the chatbot asks to use a tool, and \"END\" if\n",
    "# it is fine directly responding. This conditional routing defines the main agent loop.\n",
    "graph_builder.add_conditional_edges(\n",
    "    \"chatbot\",\n",
    "    route_tools,\n",
    "    # The following dictionary lets you tell the graph to interpret the condition's outputs as a specific node\n",
    "    # It defaults to the identity function, but if you\n",
    "    # want to use a node named something else apart from \"tools\",\n",
    "    # You can update the value of the dictionary to something else\n",
    "    # e.g., \"tools\": \"my_tools\"\n",
    "    {\"tools\": \"tools\", END: END},\n",
    ")\n",
    "# Any time a tool is called, we return to the chatbot to decide the next step\n",
    "graph_builder.add_edge(\"tools\", \"chatbot\")\n",
    "graph_builder.add_edge(START, \"chatbot\")\n",
    "graph = graph_builder.compile()"
   ]
  },
  {
   "cell_type": "code",
   "execution_count": 24,
   "id": "276a8385",
   "metadata": {},
   "outputs": [
    {
     "data": {
      "image/png": "[encoded data removed]",
      "text/plain": [
       "<IPython.core.display.Image object>"
      ]
     },
     "metadata": {},
     "output_type": "display_data"
    }
   ],
   "source": [
    "from IPython.display import Image, display\n",
    "\n",
    "try:\n",
    "    display(Image(graph.get_graph().draw_mermaid_png()))\n",
    "except Exception:\n",
    "    # This requires some extra dependencies and is optional\n",
    "    pass"
   ]
  },
  {
   "cell_type": "code",
   "execution_count": 25,
   "id": "7f084822",
   "metadata": {},
   "outputs": [
    {
     "name": "stdout",
     "output_type": "stream",
     "text": [
      "Assistant: \n",
      "Assistant: {\"query\": \"ipl 2025 winner\", \"follow_up_questions\": null, \"answer\": null, \"images\": [], \"results\": [{\"url\": \"https://sports.yahoo.com/article/royal-challengers-bengaluru-win-maiden-183156466.html\", \"title\": \"Royal Challengers Bengaluru Win Maiden IPL Trophy - Yahoo Sports\", \"content\": \"Royal Challengers Bengaluru Win Maiden IPL Trophy - Yahoo Sports בשימוש שלך באתר ובאפליקציות שלנו אנחנו משתמשים בקובצי Cookie כדי: אם תלחץ על 'קבל הכול', אנחנו והשותפים שלנו, כולל 241, המהווים חלק מהמסגרת לשקיפות ולהסכמה ב-IAB, נאחסן מידע במכשיר ו/או תהיה לנו גישה אליו במכשיר (במילים אחרות, נשתמש בקובצי Cookie). אם אינך רוצה שאנחנו והשותפים שלנו נשתמש בקובצי Cookie ובנתונים האישיים שלך למטרות אלו, לחץ על ‚דחה הכול‘. כדי לקבל מידע נוסף על השימוש שאנחנו עושים בנתונים אישיים שלך, אפשר לעיין במדיניות הפרטיות ובמדיניות בנושא קוקיות שלנו. This one is for the fans of RCB who never left our side in the worst of times. Fantasy Sports Women's Sports College Sports Yahoo Sports AM Image 17: Download app from appStore\", \"score\": 0.9855, \"raw_content\": null}, {\"url\": \"https://www.instagram.com/p/DL6utjnyyii/\", \"title\": \"back finals for Ricky Ponting. After the defeat in IPL 2025, will his ...\", \"content\": \"Back to back finals for Ricky Ponting. After the defeat in IPL 2025, will his team in MLC clinch the title? Do let us know your thoughts in the comments\", \"score\": 0.98545, \"raw_content\": null}], \"response_time\": 5.52}\n",
      "Assistant: It appears that Royal Challengers Bengaluru (RCB) won the IPL 2025 tournament.\n",
      "Goodbye!\n"
     ]
    }
   ],
   "source": [
    "def stream_graph_updates(user_input: str):\n",
    "    for event in graph.stream({\"messages\": [{\"role\": \"user\", \"content\": user_input}]}):\n",
    "        for value in event.values():\n",
    "            print(\"Assistant:\", value[\"messages\"][-1].content)\n",
    "\n",
    "while True:\n",
    "    try:\n",
    "        user_input = input(\"User: \")\n",
    "        if user_input.lower() in [\"quit\", \"exit\", \"q\"]:\n",
    "            print(\"Goodbye!\")\n",
    "            break\n",
    "\n",
    "        stream_graph_updates(user_input)\n",
    "    except:\n",
    "        # fallback if input() is not available\n",
    "        user_input = \"What do you know about LangGraph?\"\n",
    "        print(\"User: \" + user_input)\n",
    "        stream_graph_updates(user_input)\n",
    "        break"
   ]
  },
  {
   "cell_type": "code",
   "execution_count": 26,
   "id": "89a9e688",
   "metadata": {},
   "outputs": [],
   "source": [
    "from langgraph.checkpoint.memory import MemorySaver\n",
    "\n",
    "memory = MemorySaver()"
   ]
  },
  {
   "cell_type": "code",
   "execution_count": 27,
   "id": "18ce8b9f",
   "metadata": {},
   "outputs": [],
   "source": [
    "graph = graph_builder.compile(checkpointer=memory)"
   ]
  },
  {
   "cell_type": "code",
   "execution_count": 28,
   "id": "fd4e61fe",
   "metadata": {},
   "outputs": [
    {
     "data": {
      "image/png": "[encoded data removed]",
      "text/plain": [
       "<IPython.core.display.Image object>"
      ]
     },
     "metadata": {},
     "output_type": "display_data"
    }
   ],
   "source": [
    "from IPython.display import Image, display\n",
    "\n",
    "try:\n",
    "    display(Image(graph.get_graph().draw_mermaid_png()))\n",
    "except Exception:\n",
    "    # This requires some extra dependencies and is optional\n",
    "    pass"
   ]
  },
  {
   "cell_type": "code",
   "execution_count": 29,
   "id": "f1abb9ea",
   "metadata": {},
   "outputs": [],
   "source": [
    "config = {\"configurable\": {\"thread_id\": \"1\"}}"
   ]
  },
  {
   "cell_type": "code",
   "execution_count": 30,
   "id": "56c2b0c5",
   "metadata": {},
   "outputs": [
    {
     "name": "stdout",
     "output_type": "stream",
     "text": [
      "================================\u001b[1m Human Message \u001b[0m=================================\n",
      "\n",
      "Hi there! My name is Will.\n",
      "==================================\u001b[1m Ai Message \u001b[0m==================================\n",
      "\n",
      "Nice to meet you, Will. Is there something I can help you with or would you like to chat?\n"
     ]
    }
   ],
   "source": [
    "user_input = \"Hi there! My name is Will.\"\n",
    "\n",
    "# The config is the **second positional argument** to stream() or invoke()!\n",
    "events = graph.stream(\n",
    "    {\"messages\": [{\"role\": \"user\", \"content\": user_input}]},\n",
    "    config,\n",
    "    stream_mode=\"values\",\n",
    ")\n",
    "for event in events:\n",
    "    event[\"messages\"][-1].pretty_print()"
   ]
  },
  {
   "cell_type": "code",
   "execution_count": 31,
   "id": "e9c58a13",
   "metadata": {},
   "outputs": [
    {
     "name": "stdout",
     "output_type": "stream",
     "text": [
      "================================\u001b[1m Human Message \u001b[0m=================================\n",
      "\n",
      "Remember my name?\n",
      "==================================\u001b[1m Ai Message \u001b[0m==================================\n",
      "\n",
      "I remember your name is Will.\n"
     ]
    }
   ],
   "source": [
    "user_input = \"Remember my name?\"\n",
    "\n",
    "# The config is the **second positional argument** to stream() or invoke()!\n",
    "events = graph.stream(\n",
    "    {\"messages\": [{\"role\": \"user\", \"content\": user_input}]},\n",
    "    config,\n",
    "    stream_mode=\"values\",\n",
    ")\n",
    "for event in events:\n",
    "    event[\"messages\"][-1].pretty_print()"
   ]
  },
  {
   "cell_type": "code",
   "execution_count": 32,
   "id": "46d4aca0",
   "metadata": {},
   "outputs": [
    {
     "name": "stdout",
     "output_type": "stream",
     "text": [
      "================================\u001b[1m Human Message \u001b[0m=================================\n",
      "\n",
      "Remember my name?\n",
      "==================================\u001b[1m Ai Message \u001b[0m==================================\n",
      "\n",
      "I'm a large language model, I don't have personal memories or the ability to recall individual users. Each time you interact with me, it's a new conversation and I don't retain any information from previous conversations.\n"
     ]
    }
   ],
   "source": [
    "# The only difference is we change the `thread_id` here to \"2\" instead of \"1\"\n",
    "events = graph.stream(\n",
    "    {\"messages\": [{\"role\": \"user\", \"content\": user_input}]},\n",
    "    {\"configurable\": {\"thread_id\": \"2\"}},\n",
    "    stream_mode=\"values\",\n",
    ")\n",
    "for event in events:\n",
    "    event[\"messages\"][-1].pretty_print()"
   ]
  },
  {
   "cell_type": "code",
   "execution_count": 33,
   "id": "fcf7348c",
   "metadata": {},
   "outputs": [
    {
     "data": {
      "text/plain": [
       "StateSnapshot(values={'messages': [HumanMessage(content='Hi there! My name is Will.', additional_kwargs={}, response_metadata={}, id='cd9ee2cb-10de-4971-b540-8cf1f548a334'), AIMessage(content='Nice to meet you, Will. Is there something I can help you with or would you like to chat?', additional_kwargs={}, response_metadata={'token_usage': {'completion_tokens': 23, 'prompt_tokens': 1271, 'total_tokens': 1294, 'completion_time': 0.030666667, 'prompt_time': 0.082889914, 'queue_time': 0.222238398, 'total_time': 0.113556581}, 'model_name': 'llama-3.1-8b-instant', 'system_fingerprint': 'fp_8ab2e50475', 'finish_reason': 'stop', 'logprobs': None}, id='run--9e7bed98-4730-4dbc-a447-64d2ad51356a-0', usage_metadata={'input_tokens': 1271, 'output_tokens': 23, 'total_tokens': 1294}), HumanMessage(content='Remember my name?', additional_kwargs={}, response_metadata={}, id='6348787a-feb0-4f6f-afe8-900d7e74dc51'), AIMessage(content='I remember your name is Will.', additional_kwargs={}, response_metadata={'token_usage': {'completion_tokens': 8, 'prompt_tokens': 1307, 'total_tokens': 1315, 'completion_time': 0.011036681, 'prompt_time': 0.081485481, 'queue_time': 0.224887672, 'total_time': 0.092522162}, 'model_name': 'llama-3.1-8b-instant', 'system_fingerprint': 'fp_510c177af0', 'finish_reason': 'stop', 'logprobs': None}, id='run--e4a67e30-f2c2-4292-ba1b-1fde3904d621-0', usage_metadata={'input_tokens': 1307, 'output_tokens': 8, 'total_tokens': 1315})]}, next=(), config={'configurable': {'thread_id': '1', 'checkpoint_ns': '', 'checkpoint_id': '1f05d5ab-427d-624d-8004-1c72eb5e4c74'}}, metadata={'source': 'loop', 'step': 4, 'parents': {}, 'thread_id': '1'}, created_at='2025-07-10T06:54:19.943380+00:00', parent_config={'configurable': {'thread_id': '1', 'checkpoint_ns': '', 'checkpoint_id': '1f05d5ab-3d55-681d-8003-f31002e7fb7d'}}, tasks=(), interrupts=())"
      ]
     },
     "execution_count": 33,
     "metadata": {},
     "output_type": "execute_result"
    }
   ],
   "source": [
    "snapshot = graph.get_state(config)\n",
    "snapshot"
   ]
  },
  {
   "cell_type": "code",
   "execution_count": 38,
   "id": "13a48528",
   "metadata": {},
   "outputs": [
    {
     "name": "stdout",
     "output_type": "stream",
     "text": [
      "StateSnapshot(values={'messages': [HumanMessage(content='Hi there! My name is Will.', additional_kwargs={}, response_metadata={}, id='cd9ee2cb-10de-4971-b540-8cf1f548a334'), AIMessage(content='Nice to meet you, Will. Is there something I can help you with or would you like to chat?', additional_kwargs={}, response_metadata={'token_usage': {'completion_tokens': 23, 'prompt_tokens': 1271, 'total_tokens': 1294, 'completion_time': 0.030666667, 'prompt_time': 0.082889914, 'queue_time': 0.222238398, 'total_time': 0.113556581}, 'model_name': 'llama-3.1-8b-instant', 'system_fingerprint': 'fp_8ab2e50475', 'finish_reason': 'stop', 'logprobs': None}, id='run--9e7bed98-4730-4dbc-a447-64d2ad51356a-0', usage_metadata={'input_tokens': 1271, 'output_tokens': 23, 'total_tokens': 1294}), HumanMessage(content='Remember my name?', additional_kwargs={}, response_metadata={}, id='6348787a-feb0-4f6f-afe8-900d7e74dc51'), AIMessage(content='I remember your name is Will.', additional_kwargs={}, response_metadata={'token_usage': {'completion_tokens': 8, 'prompt_tokens': 1307, 'total_tokens': 1315, 'completion_time': 0.011036681, 'prompt_time': 0.081485481, 'queue_time': 0.224887672, 'total_time': 0.092522162}, 'model_name': 'llama-3.1-8b-instant', 'system_fingerprint': 'fp_510c177af0', 'finish_reason': 'stop', 'logprobs': None}, id='run--e4a67e30-f2c2-4292-ba1b-1fde3904d621-0', usage_metadata={'input_tokens': 1307, 'output_tokens': 8, 'total_tokens': 1315})]}, next=(), config={'configurable': {'thread_id': '1', 'checkpoint_ns': '', 'checkpoint_id': '1f05d5ab-427d-624d-8004-1c72eb5e4c74'}}, metadata={'source': 'loop', 'step': 4, 'parents': {}, 'thread_id': '1'}, created_at='2025-07-10T06:54:19.943380+00:00', parent_config={'configurable': {'thread_id': '1', 'checkpoint_ns': '', 'checkpoint_id': '1f05d5ab-3d55-681d-8003-f31002e7fb7d'}}, tasks=(), interrupts=())\n"
     ]
    }
   ],
   "source": [
    "print(snapshot)\n",
    "\n"
   ]
  },
  {
   "cell_type": "code",
   "execution_count": 39,
   "id": "a72127cd",
   "metadata": {},
   "outputs": [
    {
     "name": "stdout",
     "output_type": "stream",
     "text": [
      "HumanMessage: Hi there! My name is Will.\n",
      "AIMessage: Nice to meet you, Will. Is there something I can help you with or would you like to chat?\n",
      "HumanMessage: Remember my name?\n",
      "AIMessage: I remember your name is Will.\n"
     ]
    }
   ],
   "source": [
    "for msg in snapshot.values['messages']:\n",
    "    print(f\"{type(msg).__name__}: {msg.content}\")\n"
   ]
  },
  {
   "cell_type": "code",
   "execution_count": 41,
   "id": "5267c718",
   "metadata": {},
   "outputs": [
    {
     "name": "stdout",
     "output_type": "stream",
     "text": [
      "{'messages': [HumanMessage(content='Hi there! My name is Will.', additional_kwargs={}, response_metadata={}, id='cd9ee2cb-10de-4971-b540-8cf1f548a334'), AIMessage(content='Nice to meet you, Will. Is there something I can help you with or would you like to chat?', additional_kwargs={}, response_metadata={'token_usage': {'completion_tokens': 23, 'prompt_tokens': 1271, 'total_tokens': 1294, 'completion_time': 0.030666667, 'prompt_time': 0.082889914, 'queue_time': 0.222238398, 'total_time': 0.113556581}, 'model_name': 'llama-3.1-8b-instant', 'system_fingerprint': 'fp_8ab2e50475', 'finish_reason': 'stop', 'logprobs': None}, id='run--9e7bed98-4730-4dbc-a447-64d2ad51356a-0', usage_metadata={'input_tokens': 1271, 'output_tokens': 23, 'total_tokens': 1294}), HumanMessage(content='Remember my name?', additional_kwargs={}, response_metadata={}, id='6348787a-feb0-4f6f-afe8-900d7e74dc51'), AIMessage(content='I remember your name is Will.', additional_kwargs={}, response_metadata={'token_usage': {'completion_tokens': 8, 'prompt_tokens': 1307, 'total_tokens': 1315, 'completion_time': 0.011036681, 'prompt_time': 0.081485481, 'queue_time': 0.224887672, 'total_time': 0.092522162}, 'model_name': 'llama-3.1-8b-instant', 'system_fingerprint': 'fp_510c177af0', 'finish_reason': 'stop', 'logprobs': None}, id='run--e4a67e30-f2c2-4292-ba1b-1fde3904d621-0', usage_metadata={'input_tokens': 1307, 'output_tokens': 8, 'total_tokens': 1315})]}\n"
     ]
    }
   ],
   "source": [
    "print(snapshot.values)\n"
   ]
  },
  {
   "cell_type": "code",
   "execution_count": 42,
   "id": "cca7264d",
   "metadata": {},
   "outputs": [
    {
     "name": "stdout",
     "output_type": "stream",
     "text": [
      "I remember your name is Will.\n"
     ]
    }
   ],
   "source": [
    "last_message = snapshot.values['messages'][-1]\n",
    "print(last_message.content)\n"
   ]
  },
  {
   "cell_type": "code",
   "execution_count": 36,
   "id": "32410f5a",
   "metadata": {},
   "outputs": [
    {
     "data": {
      "text/plain": [
       "()"
      ]
     },
     "execution_count": 36,
     "metadata": {},
     "output_type": "execute_result"
    }
   ],
   "source": [
    "snapshot.next  # (since the graph ended this turn, `next` is empty. If you fetch a state from within a graph invocation, next tells which node will execute next)"
   ]
  },
  {
   "cell_type": "code",
   "execution_count": null,
   "id": "62db55a0",
   "metadata": {},
   "outputs": [],
   "source": []
  }
 ],
 "metadata": {
  "kernelspec": {
   "display_name": "chatbot_env",
   "language": "python",
   "name": "python3"
  },
  "language_info": {
   "codemirror_mode": {
    "name": "ipython",
    "version": 3
   },
   "file_extension": ".py",
   "mimetype": "text/x-python",
   "name": "python",
   "nbconvert_exporter": "python",
   "pygments_lexer": "ipython3",
   "version": "3.11.6"
  }
 },
 "nbformat": 4,
 "nbformat_minor": 5
}
